{
 "cells": [
  {
   "cell_type": "markdown",
   "id": "6d0862b1-1059-494a-ab17-a1853437adac",
   "metadata": {},
   "source": [
    "# Olasılık Dağılımları"
   ]
  },
  {
   "cell_type": "markdown",
   "id": "f315ee9a-6129-4c2a-907a-50c615bc95a2",
   "metadata": {},
   "source": [
    "Bernoulli Dağılımı"
   ]
  },
  {
   "cell_type": "code",
   "execution_count": 2,
   "id": "93cc0094-420d-4632-b635-952f8fd02df4",
   "metadata": {},
   "outputs": [],
   "source": [
    "from scipy.stats import bernoulli #olasılık için scipy kütüphanesini kullanıyoruz. stats altında bernoulli'i import etmiş oluruz."
   ]
  },
  {
   "cell_type": "code",
   "execution_count": 3,
   "id": "2fec0d61-cc19-4cd8-8dc4-86ca3a5318a9",
   "metadata": {},
   "outputs": [],
   "source": [
    "p = 0.6"
   ]
  },
  {
   "cell_type": "code",
   "execution_count": 4,
   "id": "1ce3cf8e-009d-4912-b223-3e9624d908b1",
   "metadata": {},
   "outputs": [
    {
     "data": {
      "text/plain": [
       "0.6"
      ]
     },
     "execution_count": 4,
     "metadata": {},
     "output_type": "execute_result"
    }
   ],
   "source": [
    "rv = bernoulli(p)\n",
    "rv.pmf(k=1) #olasılık kütle fonks"
   ]
  },
  {
   "cell_type": "code",
   "execution_count": 5,
   "id": "cfb56f88-fa09-47bf-bb4a-ce4f68544e49",
   "metadata": {},
   "outputs": [
    {
     "data": {
      "text/plain": [
       "0.4"
      ]
     },
     "execution_count": 5,
     "metadata": {},
     "output_type": "execute_result"
    }
   ],
   "source": [
    "rv = bernoulli(p)\n",
    "rv.pmf(k=0)"
   ]
  },
  {
   "cell_type": "markdown",
   "id": "1b308d4b-5614-4fb7-a77f-e7f4c0e37d0c",
   "metadata": {},
   "source": [
    "# Büyük sayılar yasası"
   ]
  },
  {
   "cell_type": "markdown",
   "id": "d31e3b4a-d495-4cd4-8230-3f6bc25be270",
   "metadata": {},
   "source": [
    "Bir rassal değişkenin uzun vadeli kararlılığını tanımlayan olasılık teoremidir."
   ]
  },
  {
   "cell_type": "code",
   "execution_count": 8,
   "id": "3c2ab980-c39c-4cc7-adac-6b35c320f99d",
   "metadata": {},
   "outputs": [
    {
     "name": "stdout",
     "output_type": "stream",
     "text": [
      "Atış sayısı: 2 --- Yazı olasılığı: 50.00\n",
      "Atış sayısı: 4 --- Yazı olasılığı: 0.00\n",
      "Atış sayısı: 8 --- Yazı olasılığı: 62.50\n",
      "Atış sayısı: 16 --- Yazı olasılığı: 43.75\n",
      "Atış sayısı: 32 --- Yazı olasılığı: 46.88\n",
      "Atış sayısı: 64 --- Yazı olasılığı: 56.25\n",
      "Atış sayısı: 128 --- Yazı olasılığı: 50.78\n",
      "Atış sayısı: 256 --- Yazı olasılığı: 52.73\n",
      "Atış sayısı: 512 --- Yazı olasılığı: 52.93\n",
      "Atış sayısı: 1024 --- Yazı olasılığı: 50.20\n",
      "Atış sayısı: 2048 --- Yazı olasılığı: 48.58\n",
      "Atış sayısı: 4096 --- Yazı olasılığı: 49.49\n",
      "Atış sayısı: 8192 --- Yazı olasılığı: 49.58\n",
      "Atış sayısı: 16384 --- Yazı olasılığı: 49.96\n",
      "Atış sayısı: 32768 --- Yazı olasılığı: 50.00\n",
      "Atış sayısı: 65536 --- Yazı olasılığı: 49.68\n",
      "Atış sayısı: 131072 --- Yazı olasılığı: 49.97\n",
      "Atış sayısı: 262144 --- Yazı olasılığı: 50.13\n",
      "Atış sayısı: 524288 --- Yazı olasılığı: 50.01\n",
      "Atış sayısı: 1048576 --- Yazı olasılığı: 50.09\n"
     ]
    }
   ],
   "source": [
    "import numpy as np\n",
    "rng = np.random.RandomState(123)\n",
    "for i in np.arange(1,21):\n",
    "    deney_sayisi= 2**i\n",
    "    yazi_turalar = rng.randint(0, 2, size = deney_sayisi)\n",
    "    yazi_olasiliklari = np.mean(yazi_turalar)\n",
    "    print(\"Atış sayısı:\", deney_sayisi, \"---\", \"Yazı olasılığı: %.2f\" % (yazi_olasiliklari * 100))"
   ]
  },
  {
   "cell_type": "code",
   "execution_count": 1,
   "id": "1a4ce012-84c3-47f2-a068-c072e7859005",
   "metadata": {},
   "outputs": [],
   "source": [
    "from scipy.stats import binom"
   ]
  },
  {
   "cell_type": "code",
   "execution_count": 3,
   "id": "ce67cf33-afac-49ed-9513-a3fff782e84d",
   "metadata": {},
   "outputs": [
    {
     "name": "stdout",
     "output_type": "stream",
     "text": [
      "0.36972963764971983\n",
      "0.0028977871237616114\n",
      "7.006035693977161e-08\n"
     ]
    }
   ],
   "source": [
    "p = 0.01\n",
    "n = 100\n",
    "rv = binom(n, p)\n",
    "print(rv.pmf(1))\n",
    "print(rv.pmf(5))\n",
    "print(rv.pmf(10))"
   ]
  },
  {
   "cell_type": "code",
   "execution_count": 4,
   "id": "d48461be-b336-4cb5-a5e1-e95796286f95",
   "metadata": {},
   "outputs": [],
   "source": [
    "from scipy.stats import poisson"
   ]
  },
  {
   "cell_type": "code",
   "execution_count": 5,
   "id": "72683597-cd81-444d-b0df-619321840df8",
   "metadata": {},
   "outputs": [],
   "source": [
    "lambda_ = 0.1"
   ]
  },
  {
   "cell_type": "code",
   "execution_count": 7,
   "id": "97f26668-ce98-4fbc-8569-c14d5ed19583",
   "metadata": {},
   "outputs": [
    {
     "name": "stdout",
     "output_type": "stream",
     "text": [
      "0.9048374180359595\n"
     ]
    }
   ],
   "source": [
    "rv = poisson(mu = lambda_)\n",
    "print(rv.pmf(k = 0)) #k burada başarı sayısı"
   ]
  },
  {
   "cell_type": "code",
   "execution_count": 8,
   "id": "fb80d6d1-65cc-405e-9fdb-96c958db9b2d",
   "metadata": {},
   "outputs": [
    {
     "name": "stdout",
     "output_type": "stream",
     "text": [
      "0.00015080623633932676\n",
      "7.54031181696634e-08\n"
     ]
    }
   ],
   "source": [
    "print(rv.pmf(k = 3))\n",
    "print(rv.pmf(k = 5))"
   ]
  },
  {
   "cell_type": "code",
   "execution_count": 1,
   "id": "54a370ea-c40c-4a0d-bec7-01bb51bf3c6f",
   "metadata": {},
   "outputs": [],
   "source": [
    "from scipy.stats import norm"
   ]
  },
  {
   "cell_type": "code",
   "execution_count": 2,
   "id": "b7de3b1e-dde8-4088-b623-af6b887e1ca5",
   "metadata": {},
   "outputs": [
    {
     "data": {
      "text/plain": [
       "0.02275013194817921"
      ]
     },
     "execution_count": 2,
     "metadata": {},
     "output_type": "execute_result"
    }
   ],
   "source": [
    "#90'dan fazla olması\n",
    "1-norm.cdf(90, 80, 5)"
   ]
  },
  {
   "cell_type": "code",
   "execution_count": 3,
   "id": "fada3771-7814-4316-9334-c0372c517eb0",
   "metadata": {},
   "outputs": [
    {
     "data": {
      "text/plain": [
       "0.9772498680518208"
      ]
     },
     "execution_count": 3,
     "metadata": {},
     "output_type": "execute_result"
    }
   ],
   "source": [
    "#70'den fazla olması\n",
    "1-norm.cdf(70,80,5)"
   ]
  },
  {
   "cell_type": "code",
   "execution_count": 4,
   "id": "84c08214-3e75-4d4c-a818-2327094f724f",
   "metadata": {},
   "outputs": [
    {
     "data": {
      "text/plain": [
       "0.08075665923377107"
      ]
     },
     "execution_count": 4,
     "metadata": {},
     "output_type": "execute_result"
    }
   ],
   "source": [
    "#73den az olması\n",
    "norm.cdf(73, 80, 5)"
   ]
  },
  {
   "cell_type": "code",
   "execution_count": 5,
   "id": "4fc5fada-b2f4-41e3-811e-922e6aa0ee77",
   "metadata": {},
   "outputs": [
    {
     "data": {
      "text/plain": [
       "0.13590512198327787"
      ]
     },
     "execution_count": 5,
     "metadata": {},
     "output_type": "execute_result"
    }
   ],
   "source": [
    "#85 ve 90 arası\n",
    "norm.cdf(90, 80, 5) - norm.cdf(85, 80, 5)"
   ]
  },
  {
   "cell_type": "code",
   "execution_count": null,
   "id": "781cc56d-9788-4f86-8386-f94eeed97007",
   "metadata": {},
   "outputs": [],
   "source": []
  }
 ],
 "metadata": {
  "kernelspec": {
   "display_name": "Python 3",
   "language": "python",
   "name": "python3"
  },
  "language_info": {
   "codemirror_mode": {
    "name": "ipython",
    "version": 3
   },
   "file_extension": ".py",
   "mimetype": "text/x-python",
   "name": "python",
   "nbconvert_exporter": "python",
   "pygments_lexer": "ipython3",
   "version": "3.8.8"
  }
 },
 "nbformat": 4,
 "nbformat_minor": 5
}
