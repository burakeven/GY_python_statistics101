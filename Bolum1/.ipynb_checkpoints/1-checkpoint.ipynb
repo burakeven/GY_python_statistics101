{
 "cells": [
  {
   "cell_type": "markdown",
   "id": "7c3f6526-0b10-4007-a6cd-93afd8038828",
   "metadata": {},
   "source": [
    "# Veri bilimi için istatistik"
   ]
  },
  {
   "cell_type": "markdown",
   "id": "5d31be6b-2e9c-49b0-a266-40021526b83b",
   "metadata": {},
   "source": [
    "# Örnek teorisi"
   ]
  },
  {
   "cell_type": "code",
   "execution_count": 1,
   "id": "0f3c6e48-fa96-461f-bd25-932c5f538929",
   "metadata": {},
   "outputs": [],
   "source": [
    "import numpy as np"
   ]
  },
  {
   "cell_type": "code",
   "execution_count": 2,
   "id": "86a7f142-9fe3-4d45-b8ad-2704ef8d57ec",
   "metadata": {},
   "outputs": [],
   "source": [
    "populasyon = np.random.randint(0, 80, 10000)"
   ]
  },
  {
   "cell_type": "code",
   "execution_count": 3,
   "id": "52f8dd36-7d27-4ed7-9494-ebe9731f172d",
   "metadata": {},
   "outputs": [
    {
     "data": {
      "text/plain": [
       "array([ 2, 74, 79, 58, 50, 61, 18, 73, 13, 30])"
      ]
     },
     "execution_count": 3,
     "metadata": {},
     "output_type": "execute_result"
    }
   ],
   "source": [
    "populasyon[0:10]"
   ]
  },
  {
   "cell_type": "code",
   "execution_count": 4,
   "id": "6549f126-4e5e-4da4-9700-9290265db4c8",
   "metadata": {},
   "outputs": [
    {
     "data": {
      "text/plain": [
       "array([48,  0, 35, 10,  1, 52, 77, 62, 77, 68])"
      ]
     },
     "execution_count": 4,
     "metadata": {},
     "output_type": "execute_result"
    }
   ],
   "source": [
    "#orneklem cekimi\n",
    "np.random.seed(115) #onemli bir kavramdir - seed - yapılacak işlemlerin her tekrar edilmesinde aynı sonuçları getirmesini sağlayacak bir olaydır\n",
    "orneklem = np.random.choice(a = populasyon, size = 100)\n",
    "orneklem[0:10]"
   ]
  },
  {
   "cell_type": "code",
   "execution_count": 5,
   "id": "1a507fc4-0fd0-4639-bb52-42e90b8369a5",
   "metadata": {},
   "outputs": [
    {
     "data": {
      "text/plain": [
       "39.68"
      ]
     },
     "execution_count": 5,
     "metadata": {},
     "output_type": "execute_result"
    }
   ],
   "source": [
    "orneklem.mean()"
   ]
  },
  {
   "cell_type": "code",
   "execution_count": 6,
   "id": "15064b56-31ed-4446-8bcc-5c8e1fc8a424",
   "metadata": {},
   "outputs": [
    {
     "data": {
      "text/plain": [
       "39.4473"
      ]
     },
     "execution_count": 6,
     "metadata": {},
     "output_type": "execute_result"
    }
   ],
   "source": [
    "populasyon.mean()"
   ]
  },
  {
   "cell_type": "code",
   "execution_count": 7,
   "id": "ff71f866-bb5a-4c1d-b4a9-0634c19e3dab",
   "metadata": {},
   "outputs": [],
   "source": [
    "#orneklem dagilimi"
   ]
  },
  {
   "cell_type": "code",
   "execution_count": 9,
   "id": "1d9b8b06-cd3b-418a-b5be-5c98c635b0ed",
   "metadata": {},
   "outputs": [],
   "source": [
    "np.random.seed(10)\n",
    "orneklem1 = np.random.choice(a = populasyon, size=100)\n",
    "orneklem2 = np.random.choice(a = populasyon, size=100)\n",
    "orneklem3 = np.random.choice(a = populasyon, size=100)\n",
    "orneklem4 = np.random.choice(a = populasyon, size=100)\n",
    "orneklem5 = np.random.choice(a = populasyon, size=100)\n",
    "orneklem6 = np.random.choice(a = populasyon, size=100)\n",
    "orneklem7 = np.random.choice(a = populasyon, size=100)\n",
    "orneklem8 = np.random.choice(a = populasyon, size=100)\n",
    "orneklem9 = np.random.choice(a = populasyon, size=100)\n",
    "orneklem10 = np.random.choice(a = populasyon, size=100)"
   ]
  },
  {
   "cell_type": "code",
   "execution_count": 10,
   "id": "3beeb471-178c-4c62-96e5-1fdc9cd1e38f",
   "metadata": {},
   "outputs": [
    {
     "data": {
      "text/plain": [
       "39.778000000000006"
      ]
     },
     "execution_count": 10,
     "metadata": {},
     "output_type": "execute_result"
    }
   ],
   "source": [
    "(orneklem1.mean() + orneklem2.mean() + orneklem3.mean() + orneklem4.mean() + orneklem5.mean() + orneklem6.mean() + orneklem7.mean() + orneklem8.mean() + orneklem9.mean() + orneklem10.mean()) / 10"
   ]
  },
  {
   "cell_type": "code",
   "execution_count": 11,
   "id": "8cdadad1-4c0c-45e4-8d91-57d14e2336ef",
   "metadata": {},
   "outputs": [
    {
     "data": {
      "text/plain": [
       "38.68"
      ]
     },
     "execution_count": 11,
     "metadata": {},
     "output_type": "execute_result"
    }
   ],
   "source": [
    "orneklem1.mean()"
   ]
  },
  {
   "cell_type": "code",
   "execution_count": 12,
   "id": "82bbd4f7-dd29-434f-9ffd-9e0e5c6aa53d",
   "metadata": {},
   "outputs": [
    {
     "data": {
      "text/plain": [
       "38.27"
      ]
     },
     "execution_count": 12,
     "metadata": {},
     "output_type": "execute_result"
    }
   ],
   "source": [
    "orneklem2.mean()"
   ]
  },
  {
   "cell_type": "markdown",
   "id": "f88bf08f-6448-4fa6-8b18-8b02708689fd",
   "metadata": {},
   "source": [
    "# Betimsel İstatistikler"
   ]
  },
  {
   "cell_type": "code",
   "execution_count": 1,
   "id": "93aa3f12-d7c0-4a8f-9df7-7e04259059a5",
   "metadata": {},
   "outputs": [
    {
     "data": {
      "text/html": [
       "<div>\n",
       "<style scoped>\n",
       "    .dataframe tbody tr th:only-of-type {\n",
       "        vertical-align: middle;\n",
       "    }\n",
       "\n",
       "    .dataframe tbody tr th {\n",
       "        vertical-align: top;\n",
       "    }\n",
       "\n",
       "    .dataframe thead th {\n",
       "        text-align: right;\n",
       "    }\n",
       "</style>\n",
       "<table border=\"1\" class=\"dataframe\">\n",
       "  <thead>\n",
       "    <tr style=\"text-align: right;\">\n",
       "      <th></th>\n",
       "      <th>total_bill</th>\n",
       "      <th>tip</th>\n",
       "      <th>sex</th>\n",
       "      <th>smoker</th>\n",
       "      <th>day</th>\n",
       "      <th>time</th>\n",
       "      <th>size</th>\n",
       "    </tr>\n",
       "  </thead>\n",
       "  <tbody>\n",
       "    <tr>\n",
       "      <th>0</th>\n",
       "      <td>16.99</td>\n",
       "      <td>1.01</td>\n",
       "      <td>Female</td>\n",
       "      <td>No</td>\n",
       "      <td>Sun</td>\n",
       "      <td>Dinner</td>\n",
       "      <td>2</td>\n",
       "    </tr>\n",
       "    <tr>\n",
       "      <th>1</th>\n",
       "      <td>10.34</td>\n",
       "      <td>1.66</td>\n",
       "      <td>Male</td>\n",
       "      <td>No</td>\n",
       "      <td>Sun</td>\n",
       "      <td>Dinner</td>\n",
       "      <td>3</td>\n",
       "    </tr>\n",
       "    <tr>\n",
       "      <th>2</th>\n",
       "      <td>21.01</td>\n",
       "      <td>3.50</td>\n",
       "      <td>Male</td>\n",
       "      <td>No</td>\n",
       "      <td>Sun</td>\n",
       "      <td>Dinner</td>\n",
       "      <td>3</td>\n",
       "    </tr>\n",
       "    <tr>\n",
       "      <th>3</th>\n",
       "      <td>23.68</td>\n",
       "      <td>3.31</td>\n",
       "      <td>Male</td>\n",
       "      <td>No</td>\n",
       "      <td>Sun</td>\n",
       "      <td>Dinner</td>\n",
       "      <td>2</td>\n",
       "    </tr>\n",
       "    <tr>\n",
       "      <th>4</th>\n",
       "      <td>24.59</td>\n",
       "      <td>3.61</td>\n",
       "      <td>Female</td>\n",
       "      <td>No</td>\n",
       "      <td>Sun</td>\n",
       "      <td>Dinner</td>\n",
       "      <td>4</td>\n",
       "    </tr>\n",
       "  </tbody>\n",
       "</table>\n",
       "</div>"
      ],
      "text/plain": [
       "   total_bill   tip     sex smoker  day    time  size\n",
       "0       16.99  1.01  Female     No  Sun  Dinner     2\n",
       "1       10.34  1.66    Male     No  Sun  Dinner     3\n",
       "2       21.01  3.50    Male     No  Sun  Dinner     3\n",
       "3       23.68  3.31    Male     No  Sun  Dinner     2\n",
       "4       24.59  3.61  Female     No  Sun  Dinner     4"
      ]
     },
     "execution_count": 1,
     "metadata": {},
     "output_type": "execute_result"
    }
   ],
   "source": [
    "import seaborn as sns\n",
    "tips = sns.load_dataset(\"tips\")\n",
    "df = tips.copy()\n",
    "df.head()"
   ]
  },
  {
   "cell_type": "code",
   "execution_count": 2,
   "id": "2baf19d3-1b02-44ca-b6d3-e1fa4ac447f0",
   "metadata": {},
   "outputs": [
    {
     "data": {
      "text/html": [
       "<div>\n",
       "<style scoped>\n",
       "    .dataframe tbody tr th:only-of-type {\n",
       "        vertical-align: middle;\n",
       "    }\n",
       "\n",
       "    .dataframe tbody tr th {\n",
       "        vertical-align: top;\n",
       "    }\n",
       "\n",
       "    .dataframe thead th {\n",
       "        text-align: right;\n",
       "    }\n",
       "</style>\n",
       "<table border=\"1\" class=\"dataframe\">\n",
       "  <thead>\n",
       "    <tr style=\"text-align: right;\">\n",
       "      <th></th>\n",
       "      <th>count</th>\n",
       "      <th>mean</th>\n",
       "      <th>std</th>\n",
       "      <th>min</th>\n",
       "      <th>25%</th>\n",
       "      <th>50%</th>\n",
       "      <th>75%</th>\n",
       "      <th>max</th>\n",
       "    </tr>\n",
       "  </thead>\n",
       "  <tbody>\n",
       "    <tr>\n",
       "      <th>total_bill</th>\n",
       "      <td>244.0</td>\n",
       "      <td>19.785943</td>\n",
       "      <td>8.902412</td>\n",
       "      <td>3.07</td>\n",
       "      <td>13.3475</td>\n",
       "      <td>17.795</td>\n",
       "      <td>24.1275</td>\n",
       "      <td>50.81</td>\n",
       "    </tr>\n",
       "    <tr>\n",
       "      <th>tip</th>\n",
       "      <td>244.0</td>\n",
       "      <td>2.998279</td>\n",
       "      <td>1.383638</td>\n",
       "      <td>1.00</td>\n",
       "      <td>2.0000</td>\n",
       "      <td>2.900</td>\n",
       "      <td>3.5625</td>\n",
       "      <td>10.00</td>\n",
       "    </tr>\n",
       "    <tr>\n",
       "      <th>size</th>\n",
       "      <td>244.0</td>\n",
       "      <td>2.569672</td>\n",
       "      <td>0.951100</td>\n",
       "      <td>1.00</td>\n",
       "      <td>2.0000</td>\n",
       "      <td>2.000</td>\n",
       "      <td>3.0000</td>\n",
       "      <td>6.00</td>\n",
       "    </tr>\n",
       "  </tbody>\n",
       "</table>\n",
       "</div>"
      ],
      "text/plain": [
       "            count       mean       std   min      25%     50%      75%    max\n",
       "total_bill  244.0  19.785943  8.902412  3.07  13.3475  17.795  24.1275  50.81\n",
       "tip         244.0   2.998279  1.383638  1.00   2.0000   2.900   3.5625  10.00\n",
       "size        244.0   2.569672  0.951100  1.00   2.0000   2.000   3.0000   6.00"
      ]
     },
     "execution_count": 2,
     "metadata": {},
     "output_type": "execute_result"
    }
   ],
   "source": [
    "df.describe().T"
   ]
  },
  {
   "cell_type": "code",
   "execution_count": 3,
   "id": "076a0908-a6f8-416c-967f-a42cac40bc5f",
   "metadata": {},
   "outputs": [
    {
     "name": "stdout",
     "output_type": "stream",
     "text": [
      "Collecting researchpy\n",
      "  Downloading researchpy-0.3.2-py3-none-any.whl (15 kB)\n",
      "Requirement already satisfied: patsy in c:\\users\\burak\\anaconda3\\lib\\site-packages (from researchpy) (0.5.1)\n",
      "Requirement already satisfied: pandas in c:\\users\\burak\\anaconda3\\lib\\site-packages (from researchpy) (1.2.4)\n",
      "Requirement already satisfied: statsmodels in c:\\users\\burak\\anaconda3\\lib\\site-packages (from researchpy) (0.12.2)\n",
      "Requirement already satisfied: numpy in c:\\users\\burak\\anaconda3\\lib\\site-packages (from researchpy) (1.20.1)\n",
      "Requirement already satisfied: scipy in c:\\users\\burak\\anaconda3\\lib\\site-packages (from researchpy) (1.6.2)\n",
      "Requirement already satisfied: python-dateutil>=2.7.3 in c:\\users\\burak\\anaconda3\\lib\\site-packages (from pandas->researchpy) (2.8.1)\n",
      "Requirement already satisfied: pytz>=2017.3 in c:\\users\\burak\\anaconda3\\lib\\site-packages (from pandas->researchpy) (2021.1)\n",
      "Requirement already satisfied: six>=1.5 in c:\\users\\burak\\anaconda3\\lib\\site-packages (from python-dateutil>=2.7.3->pandas->researchpy) (1.15.0)\n",
      "Installing collected packages: researchpy\n",
      "Successfully installed researchpy-0.3.2\n"
     ]
    }
   ],
   "source": [
    "!pip install researchpy\n",
    "import researchpy as rp"
   ]
  },
  {
   "cell_type": "code",
   "execution_count": 4,
   "id": "24fdf17a-dae0-4b34-b7aa-c0e8516a466d",
   "metadata": {},
   "outputs": [
    {
     "name": "stdout",
     "output_type": "stream",
     "text": [
      "\n",
      "\n"
     ]
    },
    {
     "data": {
      "text/html": [
       "<div>\n",
       "<style scoped>\n",
       "    .dataframe tbody tr th:only-of-type {\n",
       "        vertical-align: middle;\n",
       "    }\n",
       "\n",
       "    .dataframe tbody tr th {\n",
       "        vertical-align: top;\n",
       "    }\n",
       "\n",
       "    .dataframe thead th {\n",
       "        text-align: right;\n",
       "    }\n",
       "</style>\n",
       "<table border=\"1\" class=\"dataframe\">\n",
       "  <thead>\n",
       "    <tr style=\"text-align: right;\">\n",
       "      <th></th>\n",
       "      <th>Variable</th>\n",
       "      <th>N</th>\n",
       "      <th>Mean</th>\n",
       "      <th>SD</th>\n",
       "      <th>SE</th>\n",
       "      <th>95% Conf.</th>\n",
       "      <th>Interval</th>\n",
       "    </tr>\n",
       "  </thead>\n",
       "  <tbody>\n",
       "    <tr>\n",
       "      <th>0</th>\n",
       "      <td>total_bill</td>\n",
       "      <td>244.0</td>\n",
       "      <td>19.7859</td>\n",
       "      <td>8.9024</td>\n",
       "      <td>0.5699</td>\n",
       "      <td>18.6633</td>\n",
       "      <td>20.9086</td>\n",
       "    </tr>\n",
       "    <tr>\n",
       "      <th>1</th>\n",
       "      <td>tip</td>\n",
       "      <td>244.0</td>\n",
       "      <td>2.9983</td>\n",
       "      <td>1.3836</td>\n",
       "      <td>0.0886</td>\n",
       "      <td>2.8238</td>\n",
       "      <td>3.1728</td>\n",
       "    </tr>\n",
       "    <tr>\n",
       "      <th>2</th>\n",
       "      <td>size</td>\n",
       "      <td>244.0</td>\n",
       "      <td>2.5697</td>\n",
       "      <td>0.9511</td>\n",
       "      <td>0.0609</td>\n",
       "      <td>2.4497</td>\n",
       "      <td>2.6896</td>\n",
       "    </tr>\n",
       "  </tbody>\n",
       "</table>\n",
       "</div>"
      ],
      "text/plain": [
       "     Variable      N     Mean      SD      SE  95% Conf.  Interval\n",
       "0  total_bill  244.0  19.7859  8.9024  0.5699    18.6633   20.9086\n",
       "1         tip  244.0   2.9983  1.3836  0.0886     2.8238    3.1728\n",
       "2        size  244.0   2.5697  0.9511  0.0609     2.4497    2.6896"
      ]
     },
     "execution_count": 4,
     "metadata": {},
     "output_type": "execute_result"
    }
   ],
   "source": [
    "rp.summary_cont(df[[\"total_bill\",\"tip\",\"size\"]]) #sayisal için bu fonk kullanilir"
   ]
  },
  {
   "cell_type": "code",
   "execution_count": 5,
   "id": "fdbbcb7d-7792-4dbe-ada6-d05505978385",
   "metadata": {},
   "outputs": [
    {
     "data": {
      "text/html": [
       "<div>\n",
       "<style scoped>\n",
       "    .dataframe tbody tr th:only-of-type {\n",
       "        vertical-align: middle;\n",
       "    }\n",
       "\n",
       "    .dataframe tbody tr th {\n",
       "        vertical-align: top;\n",
       "    }\n",
       "\n",
       "    .dataframe thead th {\n",
       "        text-align: right;\n",
       "    }\n",
       "</style>\n",
       "<table border=\"1\" class=\"dataframe\">\n",
       "  <thead>\n",
       "    <tr style=\"text-align: right;\">\n",
       "      <th></th>\n",
       "      <th>Variable</th>\n",
       "      <th>Outcome</th>\n",
       "      <th>Count</th>\n",
       "      <th>Percent</th>\n",
       "    </tr>\n",
       "  </thead>\n",
       "  <tbody>\n",
       "    <tr>\n",
       "      <th>0</th>\n",
       "      <td>sex</td>\n",
       "      <td>Male</td>\n",
       "      <td>157</td>\n",
       "      <td>64.34</td>\n",
       "    </tr>\n",
       "    <tr>\n",
       "      <th>1</th>\n",
       "      <td></td>\n",
       "      <td>Female</td>\n",
       "      <td>87</td>\n",
       "      <td>35.66</td>\n",
       "    </tr>\n",
       "    <tr>\n",
       "      <th>2</th>\n",
       "      <td>smoker</td>\n",
       "      <td>No</td>\n",
       "      <td>151</td>\n",
       "      <td>61.89</td>\n",
       "    </tr>\n",
       "    <tr>\n",
       "      <th>3</th>\n",
       "      <td></td>\n",
       "      <td>Yes</td>\n",
       "      <td>93</td>\n",
       "      <td>38.11</td>\n",
       "    </tr>\n",
       "    <tr>\n",
       "      <th>4</th>\n",
       "      <td>day</td>\n",
       "      <td>Sat</td>\n",
       "      <td>87</td>\n",
       "      <td>35.66</td>\n",
       "    </tr>\n",
       "    <tr>\n",
       "      <th>5</th>\n",
       "      <td></td>\n",
       "      <td>Sun</td>\n",
       "      <td>76</td>\n",
       "      <td>31.15</td>\n",
       "    </tr>\n",
       "    <tr>\n",
       "      <th>6</th>\n",
       "      <td></td>\n",
       "      <td>Thur</td>\n",
       "      <td>62</td>\n",
       "      <td>25.41</td>\n",
       "    </tr>\n",
       "    <tr>\n",
       "      <th>7</th>\n",
       "      <td></td>\n",
       "      <td>Fri</td>\n",
       "      <td>19</td>\n",
       "      <td>7.79</td>\n",
       "    </tr>\n",
       "  </tbody>\n",
       "</table>\n",
       "</div>"
      ],
      "text/plain": [
       "  Variable Outcome  Count  Percent\n",
       "0      sex    Male    157    64.34\n",
       "1           Female     87    35.66\n",
       "2   smoker      No    151    61.89\n",
       "3              Yes     93    38.11\n",
       "4      day     Sat     87    35.66\n",
       "5              Sun     76    31.15\n",
       "6             Thur     62    25.41\n",
       "7              Fri     19     7.79"
      ]
     },
     "execution_count": 5,
     "metadata": {},
     "output_type": "execute_result"
    }
   ],
   "source": [
    "rp.summary_cat(df[[\"sex\",\"smoker\",\"day\"]]) #bu da kategorik degiskenler için"
   ]
  },
  {
   "cell_type": "code",
   "execution_count": 6,
   "id": "e108bb2c-8702-4fa5-87c7-28285de403a0",
   "metadata": {},
   "outputs": [
    {
     "data": {
      "text/html": [
       "<div>\n",
       "<style scoped>\n",
       "    .dataframe tbody tr th:only-of-type {\n",
       "        vertical-align: middle;\n",
       "    }\n",
       "\n",
       "    .dataframe tbody tr th {\n",
       "        vertical-align: top;\n",
       "    }\n",
       "\n",
       "    .dataframe thead th {\n",
       "        text-align: right;\n",
       "    }\n",
       "</style>\n",
       "<table border=\"1\" class=\"dataframe\">\n",
       "  <thead>\n",
       "    <tr style=\"text-align: right;\">\n",
       "      <th></th>\n",
       "      <th>tip</th>\n",
       "      <th>total_bill</th>\n",
       "    </tr>\n",
       "  </thead>\n",
       "  <tbody>\n",
       "    <tr>\n",
       "      <th>tip</th>\n",
       "      <td>1.914455</td>\n",
       "      <td>8.323502</td>\n",
       "    </tr>\n",
       "    <tr>\n",
       "      <th>total_bill</th>\n",
       "      <td>8.323502</td>\n",
       "      <td>79.252939</td>\n",
       "    </tr>\n",
       "  </tbody>\n",
       "</table>\n",
       "</div>"
      ],
      "text/plain": [
       "                 tip  total_bill\n",
       "tip         1.914455    8.323502\n",
       "total_bill  8.323502   79.252939"
      ]
     },
     "execution_count": 6,
     "metadata": {},
     "output_type": "execute_result"
    }
   ],
   "source": [
    "df[[\"tip\",\"total_bill\"]].cov() #kovaryans bilgisini verir. Değişken ilişkilerine ilişkin değişkenlik ölçüsünü verir."
   ]
  },
  {
   "cell_type": "code",
   "execution_count": 7,
   "id": "3e842fc3-a8fd-4769-9f49-d1b15c1690d4",
   "metadata": {},
   "outputs": [
    {
     "data": {
      "text/html": [
       "<div>\n",
       "<style scoped>\n",
       "    .dataframe tbody tr th:only-of-type {\n",
       "        vertical-align: middle;\n",
       "    }\n",
       "\n",
       "    .dataframe tbody tr th {\n",
       "        vertical-align: top;\n",
       "    }\n",
       "\n",
       "    .dataframe thead th {\n",
       "        text-align: right;\n",
       "    }\n",
       "</style>\n",
       "<table border=\"1\" class=\"dataframe\">\n",
       "  <thead>\n",
       "    <tr style=\"text-align: right;\">\n",
       "      <th></th>\n",
       "      <th>tip</th>\n",
       "      <th>total_bill</th>\n",
       "    </tr>\n",
       "  </thead>\n",
       "  <tbody>\n",
       "    <tr>\n",
       "      <th>tip</th>\n",
       "      <td>1.000000</td>\n",
       "      <td>0.675734</td>\n",
       "    </tr>\n",
       "    <tr>\n",
       "      <th>total_bill</th>\n",
       "      <td>0.675734</td>\n",
       "      <td>1.000000</td>\n",
       "    </tr>\n",
       "  </tbody>\n",
       "</table>\n",
       "</div>"
      ],
      "text/plain": [
       "                 tip  total_bill\n",
       "tip         1.000000    0.675734\n",
       "total_bill  0.675734    1.000000"
      ]
     },
     "execution_count": 7,
     "metadata": {},
     "output_type": "execute_result"
    }
   ],
   "source": [
    "df[[\"tip\",\"total_bill\"]].corr() #bu da korelasyon gösterir."
   ]
  },
  {
   "cell_type": "markdown",
   "id": "cc0dad0b-b93c-410c-b9b3-cfe032e77eee",
   "metadata": {},
   "source": [
    "# İş Uygulaması: Fiyat stratejisi karar destek"
   ]
  },
  {
   "cell_type": "code",
   "execution_count": 8,
   "id": "501a1b92-2089-4c1a-8713-3114bfa3933e",
   "metadata": {},
   "outputs": [],
   "source": [
    "import numpy as np\n",
    "fiyatlar = np.random.randint(10, 110, 1000)"
   ]
  },
  {
   "cell_type": "code",
   "execution_count": 9,
   "id": "43619ede-4cba-4993-a9b9-357d83738c01",
   "metadata": {},
   "outputs": [
    {
     "data": {
      "text/plain": [
       "60.074"
      ]
     },
     "execution_count": 9,
     "metadata": {},
     "output_type": "execute_result"
    }
   ],
   "source": [
    "fiyatlar.mean()"
   ]
  },
  {
   "cell_type": "code",
   "execution_count": 10,
   "id": "f2c27d87-631c-4ea1-8789-bf182a4c1b04",
   "metadata": {},
   "outputs": [],
   "source": [
    "import statsmodels.stats.api as sms"
   ]
  },
  {
   "cell_type": "code",
   "execution_count": 12,
   "id": "755f973f-8b17-44ce-a0e1-59398d1056bc",
   "metadata": {},
   "outputs": [
    {
     "data": {
      "text/plain": [
       "(58.29444200505848, 61.85355799494152)"
      ]
     },
     "execution_count": 12,
     "metadata": {},
     "output_type": "execute_result"
    }
   ],
   "source": [
    "sms.DescrStatsW(fiyatlar).tconfint_mean() #%95 güvenilirlikle kullanıcıların ödeyeceği para 58 ile 61 arasındadır. Bilimsel olarak belirlenmiş fiyat aralığı"
   ]
  },
  {
   "cell_type": "code",
   "execution_count": null,
   "id": "1f1e1fce-ff41-4bd9-ab12-7fb7449fcc91",
   "metadata": {},
   "outputs": [],
   "source": []
  }
 ],
 "metadata": {
  "kernelspec": {
   "display_name": "Python 3",
   "language": "python",
   "name": "python3"
  },
  "language_info": {
   "codemirror_mode": {
    "name": "ipython",
    "version": 3
   },
   "file_extension": ".py",
   "mimetype": "text/x-python",
   "name": "python",
   "nbconvert_exporter": "python",
   "pygments_lexer": "ipython3",
   "version": "3.8.8"
  }
 },
 "nbformat": 4,
 "nbformat_minor": 5
}
